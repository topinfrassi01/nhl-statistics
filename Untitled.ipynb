{
 "cells": [
  {
   "cell_type": "code",
   "execution_count": 1,
   "metadata": {},
   "outputs": [],
   "source": [
    "import pandas\n",
    "from pathlib import Path\n",
    "from data_preparation.prepare_data_knn import prepare\n",
    "from sklearn.neighbors import NearestNeighbors\n",
    "import matplotlib.pyplot as plt\n",
    "from operator import itemgetter\n",
    "\n",
    "DATA_PATH = Path('stats')"
   ]
  },
  {
   "cell_type": "code",
   "execution_count": 2,
   "metadata": {},
   "outputs": [],
   "source": [
    "look_back_n_years = 3\n",
    "last_finished_season_id = '2019-2020'\n",
    "\n",
    "yearly_stats_paths = sorted(DATA_PATH.glob('*.csv'), key=lambda x: int(x.stem.split('-')[0]))\n",
    "previous_yearly_stats = []\n",
    "last_finished_season = None\n",
    "\n",
    "for stat_path in yearly_stats_paths:\n",
    "    if stat_path.stem == last_finished_season_id:\n",
    "        last_finished_season = pandas.read_csv(str(stat_path), header=0, encoding='unicode_escape')\n",
    "        last_finished_season = last_finished_season.set_index('Player')\n",
    "        break\n",
    "        \n",
    "    data = pandas.read_csv(str(stat_path), header=0, encoding='unicode_escape')\n",
    "    data = data.set_index('Player')\n",
    "    previous_yearly_stats.append(data)\n",
    "    \n",
    "seasons_names_ordered = [seq[\"Season\"][0] for seq in previous_yearly_stats]\n",
    "yearly_stats_per_season = {s: d for s,d in zip(seasons_names_ordered, previous_yearly_stats)}"
   ]
  },
  {
   "cell_type": "code",
   "execution_count": 3,
   "metadata": {},
   "outputs": [],
   "source": [
    "def aggregate_yearly_stats_sequence(yearly_stats_sequence):\n",
    "    sequence = yearly_stats_sequence[0]\n",
    "    prepared_seq = prepare(sequence).add_suffix(f'-{sequence[\"Season\"][0]}')\n",
    "    \n",
    "    for next_sequences_idx in range(1, len(yearly_stats_sequence)):\n",
    "        next_seq = yearly_stats_sequence[next_sequences_idx]\n",
    "        prepared_next_seq = prepare(next_seq).add_suffix(f'-{next_seq[\"Season\"][0]}')\n",
    "        \n",
    "        prepared_seq = prepared_seq.join(prepared_next_seq, how='outer', sort=True).fillna(0)\n",
    "    \n",
    "    is_forward = prepared_seq.filter(regex='Forward*').aggregate('max',1).astype(int)\n",
    "    avg_shot_perc = prepared_seq.filter(regex='S/GP*').aggregate('mean',1).astype(int)\n",
    "    #is_def = prepared_seq.filter(regex='Def*').aggregate('max',1).astype(int)\n",
    "    \n",
    "    prepared_seq.drop(list(prepared_seq.filter(regex='Forward*')), axis=1, inplace=True)\n",
    "    prepared_seq.drop(list(prepared_seq.filter(regex='S/GP*')), axis=1, inplace=True)\n",
    "    \n",
    "    prepared_seq[\"Forward\"] = is_forward\n",
    "    prepared_seq[\"S/GP\"] = avg_shot_perc\n",
    "    #prepared_seq[\"Def\"] = is_def\n",
    "    \n",
    "    return prepared_seq"
   ]
  },
  {
   "cell_type": "code",
   "execution_count": 4,
   "metadata": {
    "scrolled": true
   },
   "outputs": [
    {
     "name": "stderr",
     "output_type": "stream",
     "text": [
      "/Users/francis/Documents/nhl-statistics/data_preparation/prepare_data_knn.py:28: SettingWithCopyWarning: \n",
      "A value is trying to be set on a copy of a slice from a DataFrame.\n",
      "Try using .loc[row_indexer,col_indexer] = value instead\n",
      "\n",
      "See the caveats in the documentation: https://pandas.pydata.org/pandas-docs/stable/user_guide/indexing.html#returning-a-view-versus-a-copy\n",
      "  df[\"EVA\"] = df[\"EVP\"] - df[\"EVG\"]\n",
      "/Users/francis/Documents/nhl-statistics/data_preparation/prepare_data_knn.py:29: SettingWithCopyWarning: \n",
      "A value is trying to be set on a copy of a slice from a DataFrame.\n",
      "Try using .loc[row_indexer,col_indexer] = value instead\n",
      "\n",
      "See the caveats in the documentation: https://pandas.pydata.org/pandas-docs/stable/user_guide/indexing.html#returning-a-view-versus-a-copy\n",
      "  df[\"PPA\"] = df[\"PPP\"] - df[\"PPG\"]\n",
      "/Users/francis/Documents/nhl-statistics/data_preparation/prepare_data_knn.py:31: SettingWithCopyWarning: \n",
      "A value is trying to be set on a copy of a slice from a DataFrame.\n",
      "Try using .loc[row_indexer,col_indexer] = value instead\n",
      "\n",
      "See the caveats in the documentation: https://pandas.pydata.org/pandas-docs/stable/user_guide/indexing.html#returning-a-view-versus-a-copy\n",
      "  df[\"Forward\"] = df[\"Pos\"].isin(['C', 'L', 'R']).astype(int)\n",
      "/Users/francis/Documents/nhl-statistics/data_preparation/prepare_data_knn.py:16: SettingWithCopyWarning: \n",
      "A value is trying to be set on a copy of a slice from a DataFrame.\n",
      "Try using .loc[row_indexer,col_indexer] = value instead\n",
      "\n",
      "See the caveats in the documentation: https://pandas.pydata.org/pandas-docs/stable/user_guide/indexing.html#returning-a-view-versus-a-copy\n",
      "  df[f\"{col}/GP\"] = df[col].astype(float) / games_played\n"
     ]
    }
   ],
   "source": [
    "aggregated_stats_sequences = []\n",
    "\n",
    "for i in range(0, len(previous_yearly_stats)-look_back_n_years+1):\n",
    "    aggregated_stats_sequences.append(aggregate_yearly_stats_sequence(previous_yearly_stats[i:i+look_back_n_years]))"
   ]
  },
  {
   "cell_type": "code",
   "execution_count": 5,
   "metadata": {},
   "outputs": [],
   "source": [
    "def find_closest_comparables_to_player(past_data, player_name, seasons, k=3):\n",
    "    nn_per_sequence = [NearestNeighbors(k, 'ball_tree').fit(seq) for seq in past_data[:-1]]\n",
    "    \n",
    "    current_stats_for_player = past_data[-1].loc[player_name]\n",
    "    neighbors = []\n",
    "    for seq_id, nn in enumerate(nn_per_sequence):\n",
    "        dist, idx = nn.kneighbors([current_stats_for_player])\n",
    "        neighbors += list(zip(dist[0],idx[0], [seq_id]*k))\n",
    "    \n",
    "    neighbors = list(sorted(neighbors, key=itemgetter(0)))[:k]\n",
    "    \n",
    "    results = []\n",
    "    for dist, player_id, data_id in neighbors:\n",
    "        player_name = past_data[data_id].iloc[player_id].name\n",
    "        season_range = seasons[data_id*(k-1):data_id*k+3]\n",
    "        results.append((player_name, season_range))\n",
    "        \n",
    "    return results"
   ]
  },
  {
   "cell_type": "code",
   "execution_count": 36,
   "metadata": {},
   "outputs": [],
   "source": [
    "def plot_comparables(comparisons, player_name, past_data_from_season, k=3):\n",
    "    for i, (comp_name, comp_seasons) in enumerate(comparisons):\n",
    "        stats_per_season = []\n",
    "        for comp_season in comp_seasons:\n",
    "            try:\n",
    "                data = past_data_from_season[comp_season].loc[comp_name][\"P/GP\"]\n",
    "                stats_per_season.append(data)\n",
    "            except KeyError:\n",
    "                stats_per_season.append(0)\n",
    "        \n",
    "        next_season = int(comp_season.split('-')[0])+1\n",
    "        next_season_key = f'{next_season}-{str(next_season+1)[-2:]}'\n",
    "        try:\n",
    "            stats_per_season.append(past_data_from_season[next_season_key].loc[comp_name][\"P/GP\"])\n",
    "        except KeyError:\n",
    "            stats_per_season.append(0.0)\n",
    "        \n",
    "        plt.plot(range(-k+1,2), stats_per_season, linewidth=4-i, linestyle='dashed')\n",
    "    \n",
    "    legend = [f'{x[0]} - {x[1][0].split(\"-\")[0]}-{x[1][-1].split(\"-\")[1]}' for x in comparisons]\n",
    "    plt.legend(legend)\n",
    "    "
   ]
  },
  {
   "cell_type": "code",
   "execution_count": 37,
   "metadata": {},
   "outputs": [
    {
     "data": {
      "image/png": "[encoded data removed]",
      "text/plain": [
       "<Figure size 432x288 with 1 Axes>"
      ]
     },
     "metadata": {
      "needs_background": "light"
     },
     "output_type": "display_data"
    }
   ],
   "source": [
    "observed_player = 'Gabriel Landeskog'\n",
    "comparisons = find_closest_comparables_to_player(aggregated_stats_sequences, observed_player, seasons_names_ordered, k=look_back_n_years)\n",
    "plot_comparables(comparisons, observed_player, yearly_stats_per_season)\n",
    "\n",
    "previous_years_stats_for_observed_player = [yearly_stats_per_season[season_key].loc[observed_player][\"P/GP\"] for season_key in seasons_names_ordered[-(look_back_n_years):]]\n",
    "last_finished_season_stats = [last_finished_season.loc[observed_player][\"P/GP\"]]\n",
    "\n",
    "plt.plot(range(-2,1), previous_years_stats_for_observed_player, linewidth=4, linestyle='dashed')\n",
    "plt.ylim(0.0,2.0)\n",
    "\n",
    "plt.scatter([1],last_finished_season_stats, color='red', marker='+')\n",
    "plt.xticks(range(-2,2))\n",
    "plt.xlabel('Year difference from observed season')\n",
    "plt.ylabel('P/GP')\n",
    "\n",
    "plt.title(f'Comparable players to {observed_player} over 3 years\\nwith future stats')\n",
    "plt.show()"
   ]
  },
  {
   "cell_type": "code",
   "execution_count": 31,
   "metadata": {},
   "outputs": [
    {
     "data": {
      "text/plain": [
       "['2015-16', '2016-17', '2017-18', '2018-19']"
      ]
     },
     "execution_count": 31,
     "metadata": {},
     "output_type": "execute_result"
    }
   ],
   "source": [
    "#aggregated_stats_sequences[-1].loc['Jonathan Huberdeau']\n",
    "seasons_names_ordered"
   ]
  },
  {
   "cell_type": "code",
   "execution_count": 9,
   "metadata": {},
   "outputs": [
    {
     "data": {
      "text/html": [
       "<div>\n",
       "<style scoped>\n",
       "    .dataframe tbody tr th:only-of-type {\n",
       "        vertical-align: middle;\n",
       "    }\n",
       "\n",
       "    .dataframe tbody tr th {\n",
       "        vertical-align: top;\n",
       "    }\n",
       "\n",
       "    .dataframe thead th {\n",
       "        text-align: right;\n",
       "    }\n",
       "</style>\n",
       "<table border=\"1\" class=\"dataframe\">\n",
       "  <thead>\n",
       "    <tr style=\"text-align: right;\">\n",
       "      <th></th>\n",
       "      <th>S%-2015-16</th>\n",
       "      <th>EVA/GP-2015-16</th>\n",
       "      <th>EVG/GP-2015-16</th>\n",
       "      <th>PPA/GP-2015-16</th>\n",
       "      <th>PPG/GP-2015-16</th>\n",
       "      <th>S%-2016-17</th>\n",
       "      <th>EVA/GP-2016-17</th>\n",
       "      <th>EVG/GP-2016-17</th>\n",
       "      <th>PPA/GP-2016-17</th>\n",
       "      <th>PPG/GP-2016-17</th>\n",
       "      <th>S%-2017-18</th>\n",
       "      <th>EVA/GP-2017-18</th>\n",
       "      <th>EVG/GP-2017-18</th>\n",
       "      <th>PPA/GP-2017-18</th>\n",
       "      <th>PPG/GP-2017-18</th>\n",
       "      <th>Forward</th>\n",
       "      <th>S/GP</th>\n",
       "    </tr>\n",
       "    <tr>\n",
       "      <th>Player</th>\n",
       "      <th></th>\n",
       "      <th></th>\n",
       "      <th></th>\n",
       "      <th></th>\n",
       "      <th></th>\n",
       "      <th></th>\n",
       "      <th></th>\n",
       "      <th></th>\n",
       "      <th></th>\n",
       "      <th></th>\n",
       "      <th></th>\n",
       "      <th></th>\n",
       "      <th></th>\n",
       "      <th></th>\n",
       "      <th></th>\n",
       "      <th></th>\n",
       "      <th></th>\n",
       "    </tr>\n",
       "  </thead>\n",
       "  <tbody>\n",
       "    <tr>\n",
       "      <th>Max Domi</th>\n",
       "      <td>0.115</td>\n",
       "      <td>0.259259</td>\n",
       "      <td>0.185185</td>\n",
       "      <td>0.148148</td>\n",
       "      <td>0.037037</td>\n",
       "      <td>0.083</td>\n",
       "      <td>0.372881</td>\n",
       "      <td>0.135593</td>\n",
       "      <td>0.118644</td>\n",
       "      <td>0.016949</td>\n",
       "      <td>0.060</td>\n",
       "      <td>0.341463</td>\n",
       "      <td>0.097561</td>\n",
       "      <td>0.097561</td>\n",
       "      <td>0.012195</td>\n",
       "      <td>1</td>\n",
       "      <td>1</td>\n",
       "    </tr>\n",
       "    <tr>\n",
       "      <th>Ondrej Palat</th>\n",
       "      <td>0.137</td>\n",
       "      <td>0.274194</td>\n",
       "      <td>0.209677</td>\n",
       "      <td>0.096774</td>\n",
       "      <td>0.016129</td>\n",
       "      <td>0.105</td>\n",
       "      <td>0.333333</td>\n",
       "      <td>0.160000</td>\n",
       "      <td>0.133333</td>\n",
       "      <td>0.066667</td>\n",
       "      <td>0.101</td>\n",
       "      <td>0.339286</td>\n",
       "      <td>0.107143</td>\n",
       "      <td>0.089286</td>\n",
       "      <td>0.071429</td>\n",
       "      <td>1</td>\n",
       "      <td>1</td>\n",
       "    </tr>\n",
       "    <tr>\n",
       "      <th>Tyler Bozak</th>\n",
       "      <td>0.121</td>\n",
       "      <td>0.280702</td>\n",
       "      <td>0.157895</td>\n",
       "      <td>0.122807</td>\n",
       "      <td>0.052632</td>\n",
       "      <td>0.124</td>\n",
       "      <td>0.333333</td>\n",
       "      <td>0.141026</td>\n",
       "      <td>0.141026</td>\n",
       "      <td>0.089744</td>\n",
       "      <td>0.071</td>\n",
       "      <td>0.271605</td>\n",
       "      <td>0.098765</td>\n",
       "      <td>0.123457</td>\n",
       "      <td>0.037037</td>\n",
       "      <td>1</td>\n",
       "      <td>1</td>\n",
       "    </tr>\n",
       "  </tbody>\n",
       "</table>\n",
       "</div>"
      ],
      "text/plain": [
       "              S%-2015-16  EVA/GP-2015-16  EVG/GP-2015-16  PPA/GP-2015-16  \\\n",
       "Player                                                                     \n",
       "Max Domi           0.115        0.259259        0.185185        0.148148   \n",
       "Ondrej Palat       0.137        0.274194        0.209677        0.096774   \n",
       "Tyler Bozak        0.121        0.280702        0.157895        0.122807   \n",
       "\n",
       "              PPG/GP-2015-16  S%-2016-17  EVA/GP-2016-17  EVG/GP-2016-17  \\\n",
       "Player                                                                     \n",
       "Max Domi            0.037037       0.083        0.372881        0.135593   \n",
       "Ondrej Palat        0.016129       0.105        0.333333        0.160000   \n",
       "Tyler Bozak         0.052632       0.124        0.333333        0.141026   \n",
       "\n",
       "              PPA/GP-2016-17  PPG/GP-2016-17  S%-2017-18  EVA/GP-2017-18  \\\n",
       "Player                                                                     \n",
       "Max Domi            0.118644        0.016949       0.060        0.341463   \n",
       "Ondrej Palat        0.133333        0.066667       0.101        0.339286   \n",
       "Tyler Bozak         0.141026        0.089744       0.071        0.271605   \n",
       "\n",
       "              EVG/GP-2017-18  PPA/GP-2017-18  PPG/GP-2017-18  Forward  S/GP  \n",
       "Player                                                                       \n",
       "Max Domi            0.097561        0.097561        0.012195        1     1  \n",
       "Ondrej Palat        0.107143        0.089286        0.071429        1     1  \n",
       "Tyler Bozak         0.098765        0.123457        0.037037        1     1  "
      ]
     },
     "execution_count": 9,
     "metadata": {},
     "output_type": "execute_result"
    }
   ],
   "source": [
    "aggregated_stats_sequences[0][aggregated_stats_sequences[0].index.isin([x[0] for x in comparisons])]"
   ]
  },
  {
   "cell_type": "code",
   "execution_count": 10,
   "metadata": {},
   "outputs": [
    {
     "data": {
      "text/plain": [
       "['Tyler Bozak', 'Max Domi', 'Ondrej Palat']"
      ]
     },
     "execution_count": 10,
     "metadata": {},
     "output_type": "execute_result"
    }
   ],
   "source": [
    "[x[0] for x in comparisons]"
   ]
  },
  {
   "cell_type": "code",
   "execution_count": null,
   "metadata": {},
   "outputs": [],
   "source": []
  }
 ],
 "metadata": {
  "kernelspec": {
   "display_name": "Python 3",
   "language": "python",
   "name": "python3"
  },
  "language_info": {
   "codemirror_mode": {
    "name": "ipython",
    "version": 3
   },
   "file_extension": ".py",
   "mimetype": "text/x-python",
   "name": "python",
   "nbconvert_exporter": "python",
   "pygments_lexer": "ipython3",
   "version": "3.7.6"
  }
 },
 "nbformat": 4,
 "nbformat_minor": 4
}
