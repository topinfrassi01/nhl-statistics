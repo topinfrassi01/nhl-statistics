{
 "cells": [
  {
   "cell_type": "code",
   "execution_count": 1,
   "metadata": {},
   "outputs": [
    {
     "ename": "ModuleNotFoundError",
     "evalue": "No module named 'data_preparation.prepare_data_knn'",
     "output_type": "error",
     "traceback": [
      "\u001b[1;31m---------------------------------------------------------------------------\u001b[0m",
      "\u001b[1;31mModuleNotFoundError\u001b[0m                       Traceback (most recent call last)",
      "\u001b[1;32m~\\AppData\\Local\\Temp/ipykernel_4496/1065911689.py\u001b[0m in \u001b[0;36m<module>\u001b[1;34m\u001b[0m\n\u001b[0;32m      1\u001b[0m \u001b[1;32mimport\u001b[0m \u001b[0mpandas\u001b[0m\u001b[1;33m\u001b[0m\u001b[1;33m\u001b[0m\u001b[0m\n\u001b[0;32m      2\u001b[0m \u001b[1;32mfrom\u001b[0m \u001b[0mpathlib\u001b[0m \u001b[1;32mimport\u001b[0m \u001b[0mPath\u001b[0m\u001b[1;33m\u001b[0m\u001b[1;33m\u001b[0m\u001b[0m\n\u001b[1;32m----> 3\u001b[1;33m \u001b[1;32mfrom\u001b[0m \u001b[0mdata_preparation\u001b[0m\u001b[1;33m.\u001b[0m\u001b[0mprepare_data_knn\u001b[0m \u001b[1;32mimport\u001b[0m \u001b[0mprepare\u001b[0m\u001b[1;33m\u001b[0m\u001b[1;33m\u001b[0m\u001b[0m\n\u001b[0m\u001b[0;32m      4\u001b[0m \u001b[1;32mfrom\u001b[0m \u001b[0msklearn\u001b[0m\u001b[1;33m.\u001b[0m\u001b[0mneighbors\u001b[0m \u001b[1;32mimport\u001b[0m \u001b[0mNearestNeighbors\u001b[0m\u001b[1;33m\u001b[0m\u001b[1;33m\u001b[0m\u001b[0m\n\u001b[0;32m      5\u001b[0m \u001b[1;32mimport\u001b[0m \u001b[0mmatplotlib\u001b[0m\u001b[1;33m.\u001b[0m\u001b[0mpyplot\u001b[0m \u001b[1;32mas\u001b[0m \u001b[0mplt\u001b[0m\u001b[1;33m\u001b[0m\u001b[1;33m\u001b[0m\u001b[0m\n",
      "\u001b[1;31mModuleNotFoundError\u001b[0m: No module named 'data_preparation.prepare_data_knn'"
     ]
    }
   ],
   "source": [
    "import pandas\n",
    "from pathlib import Path\n",
    "from data_preparation.prepare_data_knn import prepare\n",
    "from sklearn.neighbors import NearestNeighbors\n",
    "import matplotlib.pyplot as plt\n",
    "from operator import itemgetter\n",
    "\n",
    "DATA_PATH = Path('statistics')"
   ]
  },
  {
   "cell_type": "code",
   "execution_count": null,
   "metadata": {},
   "outputs": [],
   "source": [
    "look_back_n_years = 3\n",
    "last_finished_season_id = '2019-2020'\n",
    "\n",
    "yearly_stats_paths = sorted(DATA_PATH.glob('*.csv'), key=lambda x: int(x.stem.split('-')[0]))\n",
    "previous_yearly_stats = []\n",
    "last_finished_season = None\n",
    "\n",
    "for stat_path in yearly_stats_paths:\n",
    "    if stat_path.stem == last_finished_season_id:\n",
    "        last_finished_season = pandas.read_csv(str(stat_path), header=0, encoding='unicode_escape')\n",
    "        last_finished_season = last_finished_season.set_index('Player')\n",
    "        break\n",
    "        \n",
    "    data = pandas.read_csv(str(stat_path), header=0, encoding='unicode_escape')\n",
    "    data = data.set_index('Player')\n",
    "    previous_yearly_stats.append(data)\n",
    "    \n",
    "seasons_names_ordered = [seq[\"Season\"][0] for seq in previous_yearly_stats]\n",
    "yearly_stats_per_season = {s: d for s,d in zip(seasons_names_ordered, previous_yearly_stats)}"
   ]
  },
  {
   "cell_type": "code",
   "execution_count": 2,
   "metadata": {},
   "outputs": [
    {
     "ename": "NameError",
     "evalue": "name 'previous_yearly_stats' is not defined",
     "output_type": "error",
     "traceback": [
      "\u001b[1;31m---------------------------------------------------------------------------\u001b[0m",
      "\u001b[1;31mNameError\u001b[0m                                 Traceback (most recent call last)",
      "\u001b[1;32m~\\AppData\\Local\\Temp/ipykernel_4496/3908690728.py\u001b[0m in \u001b[0;36m<module>\u001b[1;34m\u001b[0m\n\u001b[1;32m----> 1\u001b[1;33m \u001b[0mprevious_yearly_stats\u001b[0m\u001b[1;33m[\u001b[0m\u001b[1;36m0\u001b[0m\u001b[1;33m]\u001b[0m\u001b[1;33m\u001b[0m\u001b[1;33m\u001b[0m\u001b[0m\n\u001b[0m",
      "\u001b[1;31mNameError\u001b[0m: name 'previous_yearly_stats' is not defined"
     ]
    }
   ],
   "source": [
    "previous_yearly_stats[0]"
   ]
  },
  {
   "cell_type": "code",
   "execution_count": null,
   "metadata": {},
   "outputs": [],
   "source": [
    "def aggregate_yearly_stats_sequence(yearly_stats_sequence):\n",
    "    sequence = yearly_stats_sequence[0]\n",
    "    prepared_seq = prepare(sequence).add_suffix(f'-{sequence[\"Season\"][0]}')\n",
    "    \n",
    "    for next_sequences_idx in range(1, len(yearly_stats_sequence)):\n",
    "        next_seq = yearly_stats_sequence[next_sequences_idx]\n",
    "        prepared_next_seq = prepare(next_seq).add_suffix(f'-{next_seq[\"Season\"][0]}')\n",
    "        \n",
    "        prepared_seq = prepared_seq.join(prepared_next_seq, how='outer', sort=True).fillna(0)\n",
    "    \n",
    "    is_forward = prepared_seq.filter(regex='Forward*').aggregate('max',1).astype(int)\n",
    "    avg_shot_perc = prepared_seq.filter(regex='S/GP*').aggregate('mean',1).astype(int)\n",
    "    #is_def = prepared_seq.filter(regex='Def*').aggregate('max',1).astype(int)\n",
    "    \n",
    "    prepared_seq.drop(list(prepared_seq.filter(regex='Forward*')), axis=1, inplace=True)\n",
    "    prepared_seq.drop(list(prepared_seq.filter(regex='S/GP*')), axis=1, inplace=True)\n",
    "    \n",
    "    prepared_seq[\"Forward\"] = is_forward\n",
    "    prepared_seq[\"S/GP\"] = avg_shot_perc\n",
    "    #prepared_seq[\"Def\"] = is_def\n",
    "    \n",
    "    return prepared_seq"
   ]
  },
  {
   "cell_type": "code",
   "execution_count": 4,
   "metadata": {
    "scrolled": true
   },
   "outputs": [
    {
     "name": "stderr",
     "output_type": "stream",
     "text": [
      "D:\\Repositories\\nhl-statistics\\data_preparation\\prepare_data_knn.py:30: SettingWithCopyWarning: \n",
      "A value is trying to be set on a copy of a slice from a DataFrame.\n",
      "Try using .loc[row_indexer,col_indexer] = value instead\n",
      "\n",
      "See the caveats in the documentation: https://pandas.pydata.org/pandas-docs/stable/user_guide/indexing.html#returning-a-view-versus-a-copy\n",
      "  df[\"EVA\"] = df[\"EVP\"] - df[\"EVG\"]\n",
      "D:\\Repositories\\nhl-statistics\\data_preparation\\prepare_data_knn.py:31: SettingWithCopyWarning: \n",
      "A value is trying to be set on a copy of a slice from a DataFrame.\n",
      "Try using .loc[row_indexer,col_indexer] = value instead\n",
      "\n",
      "See the caveats in the documentation: https://pandas.pydata.org/pandas-docs/stable/user_guide/indexing.html#returning-a-view-versus-a-copy\n",
      "  df[\"PPA\"] = df[\"PPP\"] - df[\"PPG\"]\n",
      "D:\\Repositories\\nhl-statistics\\data_preparation\\prepare_data_knn.py:33: SettingWithCopyWarning: \n",
      "A value is trying to be set on a copy of a slice from a DataFrame.\n",
      "Try using .loc[row_indexer,col_indexer] = value instead\n",
      "\n",
      "See the caveats in the documentation: https://pandas.pydata.org/pandas-docs/stable/user_guide/indexing.html#returning-a-view-versus-a-copy\n",
      "  df[\"Forward\"] = df[\"Pos\"].isin(['C', 'L', 'R']).astype(int)\n",
      "D:\\Repositories\\nhl-statistics\\data_preparation\\prepare_data_knn.py:16: SettingWithCopyWarning: \n",
      "A value is trying to be set on a copy of a slice from a DataFrame.\n",
      "Try using .loc[row_indexer,col_indexer] = value instead\n",
      "\n",
      "See the caveats in the documentation: https://pandas.pydata.org/pandas-docs/stable/user_guide/indexing.html#returning-a-view-versus-a-copy\n",
      "  df[f\"{col}/GP\"] = df[col].astype(float) / games_played\n",
      "D:\\Repositories\\nhl-statistics\\data_preparation\\prepare_data_knn.py:17: SettingWithCopyWarning: \n",
      "A value is trying to be set on a copy of a slice from a DataFrame.\n",
      "Try using .loc[row_indexer,col_indexer] = value instead\n",
      "\n",
      "See the caveats in the documentation: https://pandas.pydata.org/pandas-docs/stable/user_guide/indexing.html#returning-a-view-versus-a-copy\n",
      "  df[f\"{col}/GP/max\"] = df[f\"{col}/GP\"] / df[f\"{col}/GP\"].max()\n",
      "D:\\Repositories\\nhl-statistics\\data_preparation\\prepare_data_knn.py:18: FutureWarning: In a future version of pandas all arguments of DataFrame.drop except for the argument 'labels' will be keyword-only\n",
      "  df.drop(f\"{col}/GP\", 1)\n"
     ]
    }
   ],
   "source": [
    "aggregated_stats_sequences = []\n",
    "\n",
    "for i in range(0, len(previous_yearly_stats)-look_back_n_years+1):\n",
    "    aggregated_stats_sequences.append(aggregate_yearly_stats_sequence(previous_yearly_stats[i:i+look_back_n_years]))"
   ]
  },
  {
   "cell_type": "code",
   "execution_count": 5,
   "metadata": {},
   "outputs": [],
   "source": [
    "def find_closest_comparables_to_player(past_data, player_name, seasons, k=3):\n",
    "    nn_per_sequence = [NearestNeighbors(n_neighbors=k, algorithm='ball_tree').fit(seq.values) for seq in past_data[:-1]]\n",
    "    \n",
    "    current_stats_for_player = past_data[-1].loc[player_name]\n",
    "    neighbors = []\n",
    "    for seq_id, nn in enumerate(nn_per_sequence):\n",
    "        dist, idx = nn.kneighbors([current_stats_for_player.values])\n",
    "        neighbors += list(zip(dist[0],idx[0], [seq_id]*k))\n",
    "    \n",
    "    neighbors = list(sorted(neighbors, key=itemgetter(0)))[:k]\n",
    "\n",
    "    results = []\n",
    "    for dist, player_id, data_id in neighbors:\n",
    "        player_name = past_data[data_id].iloc[player_id].name\n",
    "        season_range = seasons[data_id:data_id+k]\n",
    "        results.append((player_name, season_range))\n",
    "        \n",
    "    return results"
   ]
  },
  {
   "cell_type": "code",
   "execution_count": 6,
   "metadata": {},
   "outputs": [],
   "source": [
    "def plot_comparables(comparisons, player_name, past_data_from_season, k=3):\n",
    "    for i, (comp_name, comp_seasons) in enumerate(comparisons):\n",
    "        stats_per_season = []\n",
    "        for comp_season in comp_seasons:\n",
    "            try:\n",
    "                data = past_data_from_season[comp_season].loc[comp_name][\"P/GP\"]\n",
    "                stats_per_season.append(data)\n",
    "            except KeyError:\n",
    "                stats_per_season.append(0)\n",
    "        \n",
    "        next_season = int(comp_season.split('-')[0])+1\n",
    "        next_season_key = f'{next_season}-{str(next_season+1)[-2:]}'\n",
    "        try:\n",
    "            stats_per_season.append(past_data_from_season[next_season_key].loc[comp_name][\"P/GP\"])\n",
    "        except KeyError:\n",
    "            stats_per_season.append(0.0)\n",
    "        \n",
    "        plt.plot(range(-k+1,2), stats_per_season, linewidth=4-i, linestyle='dashed')\n",
    "    \n",
    "    legend = [f'{x[0]} - {x[1][0].split(\"-\")[0]}-{x[1][-1].split(\"-\")[1]}' for x in comparisons]\n",
    "    plt.legend(legend)\n",
    "    "
   ]
  },
  {
   "cell_type": "code",
   "execution_count": 7,
   "metadata": {},
   "outputs": [
    {
     "data": {
      "image/png": "[encoded data removed]",
      "text/plain": [
       "<Figure size 432x288 with 1 Axes>"
      ]
     },
     "metadata": {
      "needs_background": "light"
     },
     "output_type": "display_data"
    }
   ],
   "source": [
    "observed_player = 'Jeff Skinner'\n",
    "comparisons = find_closest_comparables_to_player(aggregated_stats_sequences, observed_player, seasons_names_ordered, k=look_back_n_years)\n",
    "plot_comparables(comparisons, observed_player, yearly_stats_per_season)\n",
    "\n",
    "previous_years_stats_for_observed_player = [yearly_stats_per_season[season_key].loc[observed_player][\"P/GP\"] for season_key in seasons_names_ordered[-(look_back_n_years):]]\n",
    "last_finished_season_stats = [last_finished_season.loc[observed_player][\"P/GP\"]]\n",
    "\n",
    "plt.plot(range(-2,1), previous_years_stats_for_observed_player, linewidth=4, linestyle='dashed')\n",
    "plt.ylim(0.0,2.0)\n",
    "\n",
    "plt.scatter([1],last_finished_season_stats, color='red', marker='+')\n",
    "plt.xticks(range(-2,2))\n",
    "plt.xlabel('Year difference from observed season')\n",
    "plt.ylabel('P/GP')\n",
    "\n",
    "plt.title(f'Comparable players to {observed_player} over 3 years\\nwith future stats')\n",
    "plt.show()"
   ]
  },
  {
   "cell_type": "code",
   "execution_count": 8,
   "metadata": {},
   "outputs": [
    {
     "data": {
      "text/plain": [
       "[('Max Pacioretty', ['2013-14', '2014-15', '2015-16']),\n",
       " ('Evander Kane', ['2012-13', '2013-14', '2014-15']),\n",
       " ('Jeff Skinner', ['2011-12', '2012-13', '2013-14'])]"
      ]
     },
     "execution_count": 8,
     "metadata": {},
     "output_type": "execute_result"
    }
   ],
   "source": [
    "comparisons"
   ]
  },
  {
   "cell_type": "code",
   "execution_count": 9,
   "metadata": {},
   "outputs": [
    {
     "data": {
      "text/html": [
       "<div>\n",
       "<style scoped>\n",
       "    .dataframe tbody tr th:only-of-type {\n",
       "        vertical-align: middle;\n",
       "    }\n",
       "\n",
       "    .dataframe tbody tr th {\n",
       "        vertical-align: top;\n",
       "    }\n",
       "\n",
       "    .dataframe thead th {\n",
       "        text-align: right;\n",
       "    }\n",
       "</style>\n",
       "<table border=\"1\" class=\"dataframe\">\n",
       "  <thead>\n",
       "    <tr style=\"text-align: right;\">\n",
       "      <th></th>\n",
       "      <th>S%-2005-06</th>\n",
       "      <th>EVA/GP-2005-06</th>\n",
       "      <th>EVA/GP/max-2005-06</th>\n",
       "      <th>EVG/GP-2005-06</th>\n",
       "      <th>EVG/GP/max-2005-06</th>\n",
       "      <th>PPA/GP-2005-06</th>\n",
       "      <th>PPA/GP/max-2005-06</th>\n",
       "      <th>PPG/GP-2005-06</th>\n",
       "      <th>PPG/GP/max-2005-06</th>\n",
       "      <th>S%-2006-07</th>\n",
       "      <th>...</th>\n",
       "      <th>EVA/GP-2007-08</th>\n",
       "      <th>EVA/GP/max-2007-08</th>\n",
       "      <th>EVG/GP-2007-08</th>\n",
       "      <th>EVG/GP/max-2007-08</th>\n",
       "      <th>PPA/GP-2007-08</th>\n",
       "      <th>PPA/GP/max-2007-08</th>\n",
       "      <th>PPG/GP-2007-08</th>\n",
       "      <th>PPG/GP/max-2007-08</th>\n",
       "      <th>Forward</th>\n",
       "      <th>S/GP</th>\n",
       "    </tr>\n",
       "    <tr>\n",
       "      <th>Player</th>\n",
       "      <th></th>\n",
       "      <th></th>\n",
       "      <th></th>\n",
       "      <th></th>\n",
       "      <th></th>\n",
       "      <th></th>\n",
       "      <th></th>\n",
       "      <th></th>\n",
       "      <th></th>\n",
       "      <th></th>\n",
       "      <th></th>\n",
       "      <th></th>\n",
       "      <th></th>\n",
       "      <th></th>\n",
       "      <th></th>\n",
       "      <th></th>\n",
       "      <th></th>\n",
       "      <th></th>\n",
       "      <th></th>\n",
       "      <th></th>\n",
       "      <th></th>\n",
       "    </tr>\n",
       "  </thead>\n",
       "  <tbody>\n",
       "  </tbody>\n",
       "</table>\n",
       "<p>0 rows × 29 columns</p>\n",
       "</div>"
      ],
      "text/plain": [
       "Empty DataFrame\n",
       "Columns: [S%-2005-06, EVA/GP-2005-06, EVA/GP/max-2005-06, EVG/GP-2005-06, EVG/GP/max-2005-06, PPA/GP-2005-06, PPA/GP/max-2005-06, PPG/GP-2005-06, PPG/GP/max-2005-06, S%-2006-07, EVA/GP-2006-07, EVA/GP/max-2006-07, EVG/GP-2006-07, EVG/GP/max-2006-07, PPA/GP-2006-07, PPA/GP/max-2006-07, PPG/GP-2006-07, PPG/GP/max-2006-07, S%-2007-08, EVA/GP-2007-08, EVA/GP/max-2007-08, EVG/GP-2007-08, EVG/GP/max-2007-08, PPA/GP-2007-08, PPA/GP/max-2007-08, PPG/GP-2007-08, PPG/GP/max-2007-08, Forward, S/GP]\n",
       "Index: []\n",
       "\n",
       "[0 rows x 29 columns]"
      ]
     },
     "execution_count": 9,
     "metadata": {},
     "output_type": "execute_result"
    }
   ],
   "source": [
    "aggregated_stats_sequences[0][aggregated_stats_sequences[0].index.isin([x[0] for x in comparisons])]"
   ]
  },
  {
   "cell_type": "code",
   "execution_count": 10,
   "metadata": {},
   "outputs": [
    {
     "data": {
      "text/plain": [
       "['Max Pacioretty', 'Evander Kane', 'Jeff Skinner']"
      ]
     },
     "execution_count": 10,
     "metadata": {},
     "output_type": "execute_result"
    }
   ],
   "source": [
    "[x[0] for x in comparisons]"
   ]
  },
  {
   "cell_type": "code",
   "execution_count": null,
   "metadata": {},
   "outputs": [],
   "source": []
  }
 ],
 "metadata": {
  "kernelspec": {
   "display_name": "Python 3 (ipykernel)",
   "language": "python",
   "name": "python3"
  },
  "language_info": {
   "codemirror_mode": {
    "name": "ipython",
    "version": 3
   },
   "file_extension": ".py",
   "mimetype": "text/x-python",
   "name": "python",
   "nbconvert_exporter": "python",
   "pygments_lexer": "ipython3",
   "version": "3.7.9"
  }
 },
 "nbformat": 4,
 "nbformat_minor": 4
}
